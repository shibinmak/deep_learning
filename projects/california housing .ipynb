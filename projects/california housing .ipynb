{
 "cells": [
  {
   "cell_type": "code",
   "execution_count": 1,
   "metadata": {},
   "outputs": [],
   "source": [
    "#coded by shibin mak"
   ]
  },
  {
   "cell_type": "code",
   "execution_count": 2,
   "metadata": {},
   "outputs": [],
   "source": [
    "import pandas as pd"
   ]
  },
  {
   "cell_type": "code",
   "execution_count": 3,
   "metadata": {},
   "outputs": [],
   "source": [
    "import matplotlib.pyplot as plt"
   ]
  },
  {
   "cell_type": "code",
   "execution_count": 4,
   "metadata": {},
   "outputs": [
    {
     "name": "stderr",
     "output_type": "stream",
     "text": [
      "/home/userhadoop/anaconda3/envs/tensorflow/lib/python3.5/site-packages/h5py/__init__.py:36: FutureWarning: Conversion of the second argument of issubdtype from `float` to `np.floating` is deprecated. In future, it will be treated as `np.float64 == np.dtype(float).type`.\n",
      "  from ._conv import register_converters as _register_converters\n"
     ]
    }
   ],
   "source": [
    "import tensorflow as tf"
   ]
  },
  {
   "cell_type": "code",
   "execution_count": 5,
   "metadata": {},
   "outputs": [],
   "source": [
    "data = pd.read_csv('cal_housing_clean.csv')"
   ]
  },
  {
   "cell_type": "code",
   "execution_count": 6,
   "metadata": {},
   "outputs": [
    {
     "data": {
      "text/html": [
       "<div>\n",
       "<style scoped>\n",
       "    .dataframe tbody tr th:only-of-type {\n",
       "        vertical-align: middle;\n",
       "    }\n",
       "\n",
       "    .dataframe tbody tr th {\n",
       "        vertical-align: top;\n",
       "    }\n",
       "\n",
       "    .dataframe thead th {\n",
       "        text-align: right;\n",
       "    }\n",
       "</style>\n",
       "<table border=\"1\" class=\"dataframe\">\n",
       "  <thead>\n",
       "    <tr style=\"text-align: right;\">\n",
       "      <th></th>\n",
       "      <th>housingMedianAge</th>\n",
       "      <th>totalRooms</th>\n",
       "      <th>totalBedrooms</th>\n",
       "      <th>population</th>\n",
       "      <th>households</th>\n",
       "      <th>medianIncome</th>\n",
       "      <th>medianHouseValue</th>\n",
       "    </tr>\n",
       "  </thead>\n",
       "  <tbody>\n",
       "    <tr>\n",
       "      <th>0</th>\n",
       "      <td>41.0</td>\n",
       "      <td>880.0</td>\n",
       "      <td>129.0</td>\n",
       "      <td>322.0</td>\n",
       "      <td>126.0</td>\n",
       "      <td>8.3252</td>\n",
       "      <td>452600.0</td>\n",
       "    </tr>\n",
       "    <tr>\n",
       "      <th>1</th>\n",
       "      <td>21.0</td>\n",
       "      <td>7099.0</td>\n",
       "      <td>1106.0</td>\n",
       "      <td>2401.0</td>\n",
       "      <td>1138.0</td>\n",
       "      <td>8.3014</td>\n",
       "      <td>358500.0</td>\n",
       "    </tr>\n",
       "    <tr>\n",
       "      <th>2</th>\n",
       "      <td>52.0</td>\n",
       "      <td>1467.0</td>\n",
       "      <td>190.0</td>\n",
       "      <td>496.0</td>\n",
       "      <td>177.0</td>\n",
       "      <td>7.2574</td>\n",
       "      <td>352100.0</td>\n",
       "    </tr>\n",
       "    <tr>\n",
       "      <th>3</th>\n",
       "      <td>52.0</td>\n",
       "      <td>1274.0</td>\n",
       "      <td>235.0</td>\n",
       "      <td>558.0</td>\n",
       "      <td>219.0</td>\n",
       "      <td>5.6431</td>\n",
       "      <td>341300.0</td>\n",
       "    </tr>\n",
       "    <tr>\n",
       "      <th>4</th>\n",
       "      <td>52.0</td>\n",
       "      <td>1627.0</td>\n",
       "      <td>280.0</td>\n",
       "      <td>565.0</td>\n",
       "      <td>259.0</td>\n",
       "      <td>3.8462</td>\n",
       "      <td>342200.0</td>\n",
       "    </tr>\n",
       "  </tbody>\n",
       "</table>\n",
       "</div>"
      ],
      "text/plain": [
       "   housingMedianAge  totalRooms  totalBedrooms  population  households  \\\n",
       "0              41.0       880.0          129.0       322.0       126.0   \n",
       "1              21.0      7099.0         1106.0      2401.0      1138.0   \n",
       "2              52.0      1467.0          190.0       496.0       177.0   \n",
       "3              52.0      1274.0          235.0       558.0       219.0   \n",
       "4              52.0      1627.0          280.0       565.0       259.0   \n",
       "\n",
       "   medianIncome  medianHouseValue  \n",
       "0        8.3252          452600.0  \n",
       "1        8.3014          358500.0  \n",
       "2        7.2574          352100.0  \n",
       "3        5.6431          341300.0  \n",
       "4        3.8462          342200.0  "
      ]
     },
     "execution_count": 6,
     "metadata": {},
     "output_type": "execute_result"
    }
   ],
   "source": [
    "data.head()"
   ]
  },
  {
   "cell_type": "code",
   "execution_count": 7,
   "metadata": {},
   "outputs": [
    {
     "data": {
      "text/html": [
       "<div>\n",
       "<style scoped>\n",
       "    .dataframe tbody tr th:only-of-type {\n",
       "        vertical-align: middle;\n",
       "    }\n",
       "\n",
       "    .dataframe tbody tr th {\n",
       "        vertical-align: top;\n",
       "    }\n",
       "\n",
       "    .dataframe thead th {\n",
       "        text-align: right;\n",
       "    }\n",
       "</style>\n",
       "<table border=\"1\" class=\"dataframe\">\n",
       "  <thead>\n",
       "    <tr style=\"text-align: right;\">\n",
       "      <th></th>\n",
       "      <th>housingMedianAge</th>\n",
       "      <th>totalRooms</th>\n",
       "      <th>totalBedrooms</th>\n",
       "      <th>population</th>\n",
       "      <th>households</th>\n",
       "      <th>medianIncome</th>\n",
       "      <th>medianHouseValue</th>\n",
       "    </tr>\n",
       "  </thead>\n",
       "  <tbody>\n",
       "    <tr>\n",
       "      <th>count</th>\n",
       "      <td>20640.000000</td>\n",
       "      <td>20640.000000</td>\n",
       "      <td>20640.000000</td>\n",
       "      <td>20640.000000</td>\n",
       "      <td>20640.000000</td>\n",
       "      <td>20640.000000</td>\n",
       "      <td>20640.000000</td>\n",
       "    </tr>\n",
       "    <tr>\n",
       "      <th>mean</th>\n",
       "      <td>28.639486</td>\n",
       "      <td>2635.763081</td>\n",
       "      <td>537.898014</td>\n",
       "      <td>1425.476744</td>\n",
       "      <td>499.539680</td>\n",
       "      <td>3.870671</td>\n",
       "      <td>206855.816909</td>\n",
       "    </tr>\n",
       "    <tr>\n",
       "      <th>std</th>\n",
       "      <td>12.585558</td>\n",
       "      <td>2181.615252</td>\n",
       "      <td>421.247906</td>\n",
       "      <td>1132.462122</td>\n",
       "      <td>382.329753</td>\n",
       "      <td>1.899822</td>\n",
       "      <td>115395.615874</td>\n",
       "    </tr>\n",
       "    <tr>\n",
       "      <th>min</th>\n",
       "      <td>1.000000</td>\n",
       "      <td>2.000000</td>\n",
       "      <td>1.000000</td>\n",
       "      <td>3.000000</td>\n",
       "      <td>1.000000</td>\n",
       "      <td>0.499900</td>\n",
       "      <td>14999.000000</td>\n",
       "    </tr>\n",
       "    <tr>\n",
       "      <th>25%</th>\n",
       "      <td>18.000000</td>\n",
       "      <td>1447.750000</td>\n",
       "      <td>295.000000</td>\n",
       "      <td>787.000000</td>\n",
       "      <td>280.000000</td>\n",
       "      <td>2.563400</td>\n",
       "      <td>119600.000000</td>\n",
       "    </tr>\n",
       "    <tr>\n",
       "      <th>50%</th>\n",
       "      <td>29.000000</td>\n",
       "      <td>2127.000000</td>\n",
       "      <td>435.000000</td>\n",
       "      <td>1166.000000</td>\n",
       "      <td>409.000000</td>\n",
       "      <td>3.534800</td>\n",
       "      <td>179700.000000</td>\n",
       "    </tr>\n",
       "    <tr>\n",
       "      <th>75%</th>\n",
       "      <td>37.000000</td>\n",
       "      <td>3148.000000</td>\n",
       "      <td>647.000000</td>\n",
       "      <td>1725.000000</td>\n",
       "      <td>605.000000</td>\n",
       "      <td>4.743250</td>\n",
       "      <td>264725.000000</td>\n",
       "    </tr>\n",
       "    <tr>\n",
       "      <th>max</th>\n",
       "      <td>52.000000</td>\n",
       "      <td>39320.000000</td>\n",
       "      <td>6445.000000</td>\n",
       "      <td>35682.000000</td>\n",
       "      <td>6082.000000</td>\n",
       "      <td>15.000100</td>\n",
       "      <td>500001.000000</td>\n",
       "    </tr>\n",
       "  </tbody>\n",
       "</table>\n",
       "</div>"
      ],
      "text/plain": [
       "       housingMedianAge    totalRooms  totalBedrooms    population  \\\n",
       "count      20640.000000  20640.000000   20640.000000  20640.000000   \n",
       "mean          28.639486   2635.763081     537.898014   1425.476744   \n",
       "std           12.585558   2181.615252     421.247906   1132.462122   \n",
       "min            1.000000      2.000000       1.000000      3.000000   \n",
       "25%           18.000000   1447.750000     295.000000    787.000000   \n",
       "50%           29.000000   2127.000000     435.000000   1166.000000   \n",
       "75%           37.000000   3148.000000     647.000000   1725.000000   \n",
       "max           52.000000  39320.000000    6445.000000  35682.000000   \n",
       "\n",
       "         households  medianIncome  medianHouseValue  \n",
       "count  20640.000000  20640.000000      20640.000000  \n",
       "mean     499.539680      3.870671     206855.816909  \n",
       "std      382.329753      1.899822     115395.615874  \n",
       "min        1.000000      0.499900      14999.000000  \n",
       "25%      280.000000      2.563400     119600.000000  \n",
       "50%      409.000000      3.534800     179700.000000  \n",
       "75%      605.000000      4.743250     264725.000000  \n",
       "max     6082.000000     15.000100     500001.000000  "
      ]
     },
     "execution_count": 7,
     "metadata": {},
     "output_type": "execute_result"
    }
   ],
   "source": [
    "data.describe()"
   ]
  },
  {
   "cell_type": "code",
   "execution_count": 8,
   "metadata": {},
   "outputs": [],
   "source": [
    "x = data.drop('medianHouseValue',axis=1)"
   ]
  },
  {
   "cell_type": "code",
   "execution_count": 9,
   "metadata": {},
   "outputs": [],
   "source": [
    "y= data['medianHouseValue']"
   ]
  },
  {
   "cell_type": "code",
   "execution_count": 10,
   "metadata": {},
   "outputs": [
    {
     "data": {
      "text/plain": [
       "pandas.core.series.Series"
      ]
     },
     "execution_count": 10,
     "metadata": {},
     "output_type": "execute_result"
    }
   ],
   "source": [
    "type(y)\n"
   ]
  },
  {
   "cell_type": "code",
   "execution_count": 11,
   "metadata": {},
   "outputs": [],
   "source": [
    "from sklearn.preprocessing import StandardScaler"
   ]
  },
  {
   "cell_type": "code",
   "execution_count": 12,
   "metadata": {},
   "outputs": [],
   "source": [
    "from sklearn.model_selection import train_test_split"
   ]
  },
  {
   "cell_type": "code",
   "execution_count": 13,
   "metadata": {},
   "outputs": [],
   "source": [
    "x_train,x_test,y_train,y_test = train_test_split(x,y,test_size=0.3)\n"
   ]
  },
  {
   "cell_type": "code",
   "execution_count": 14,
   "metadata": {},
   "outputs": [],
   "source": [
    "scaler =StandardScaler()"
   ]
  },
  {
   "cell_type": "code",
   "execution_count": 15,
   "metadata": {},
   "outputs": [
    {
     "data": {
      "text/plain": [
       "StandardScaler(copy=True, with_mean=True, with_std=True)"
      ]
     },
     "execution_count": 15,
     "metadata": {},
     "output_type": "execute_result"
    }
   ],
   "source": [
    "scaler.fit(x_train)"
   ]
  },
  {
   "cell_type": "code",
   "execution_count": 16,
   "metadata": {},
   "outputs": [],
   "source": [
    "x_train = pd.DataFrame(data=scaler.transform(x_train),columns=x.columns,index=x_train.index)"
   ]
  },
  {
   "cell_type": "code",
   "execution_count": 17,
   "metadata": {},
   "outputs": [],
   "source": [
    "x_test = pd.DataFrame(data=scaler.transform(x_test),columns= x.columns,index=x_test.index)"
   ]
  },
  {
   "cell_type": "code",
   "execution_count": 18,
   "metadata": {},
   "outputs": [],
   "source": [
    "fc= [x.columns]"
   ]
  },
  {
   "cell_type": "code",
   "execution_count": 19,
   "metadata": {},
   "outputs": [
    {
     "name": "stdout",
     "output_type": "stream",
     "text": [
      "housingMedianAge= tf.feature_column.numeric_column('housingMedianAge')\n",
      "totalRooms= tf.feature_column.numeric_column('totalRooms')\n",
      "totalBedrooms= tf.feature_column.numeric_column('totalBedrooms')\n",
      "population= tf.feature_column.numeric_column('population')\n",
      "households= tf.feature_column.numeric_column('households')\n",
      "medianIncome= tf.feature_column.numeric_column('medianIncome')\n",
      "housingMedianAge,\n",
      "totalRooms,\n",
      "totalBedrooms,\n",
      "population,\n",
      "households,\n",
      "medianIncome,\n"
     ]
    }
   ],
   "source": [
    "for i in x.columns :\n",
    "    a= \"{}\".format(i) + \"= tf.feature_column.numeric_column('{}')\".format(i)\n",
    "    print (a)\n",
    "for i in x.columns:\n",
    "    b= \"{},\".format(i)\n",
    "    print(b)"
   ]
  },
  {
   "cell_type": "code",
   "execution_count": 20,
   "metadata": {},
   "outputs": [],
   "source": [
    "housingMedianAge= tf.feature_column.numeric_column('housingMedianAge')\n",
    "totalRooms= tf.feature_column.numeric_column('totalRooms')\n",
    "totalBedrooms= tf.feature_column.numeric_column('totalBedrooms')\n",
    "population= tf.feature_column.numeric_column('population')\n",
    "households= tf.feature_column.numeric_column('households')\n",
    "medianIncome= tf.feature_column.numeric_column('medianIncome')\n",
    "\n"
   ]
  },
  {
   "cell_type": "code",
   "execution_count": 21,
   "metadata": {},
   "outputs": [],
   "source": [
    "feat_cols = [housingMedianAge,\n",
    "totalRooms,\n",
    "totalBedrooms,\n",
    "population,\n",
    "households,\n",
    "medianIncome]"
   ]
  },
  {
   "cell_type": "code",
   "execution_count": 22,
   "metadata": {},
   "outputs": [
    {
     "name": "stdout",
     "output_type": "stream",
     "text": [
      "INFO:tensorflow:Using default config.\n",
      "WARNING:tensorflow:Using temporary folder as model directory: /tmp/tmp3tam2to2\n",
      "INFO:tensorflow:Using config: {'_save_checkpoints_secs': 600, '_is_chief': True, '_num_ps_replicas': 0, '_master': '', '_model_dir': '/tmp/tmp3tam2to2', '_train_distribute': None, '_task_type': 'worker', '_keep_checkpoint_every_n_hours': 10000, '_evaluation_master': '', '_service': None, '_global_id_in_cluster': 0, '_save_checkpoints_steps': None, '_tf_random_seed': None, '_keep_checkpoint_max': 5, '_session_config': None, '_save_summary_steps': 100, '_log_step_count_steps': 100, '_num_worker_replicas': 1, '_cluster_spec': <tensorflow.python.training.server_lib.ClusterSpec object at 0x7fa22e3c1a20>, '_task_id': 0}\n"
     ]
    }
   ],
   "source": [
    "model = tf.estimator.DNNRegressor(hidden_units=[10,10,10],feature_columns=feat_cols)"
   ]
  },
  {
   "cell_type": "code",
   "execution_count": 57,
   "metadata": {},
   "outputs": [],
   "source": [
    "input_func = tf.estimator.inputs.pandas_input_fn(x=x_train,y=y_train,batch_size=5,num_epochs=1000,shuffle=True)"
   ]
  },
  {
   "cell_type": "code",
   "execution_count": 58,
   "metadata": {},
   "outputs": [
    {
     "name": "stdout",
     "output_type": "stream",
     "text": [
      "INFO:tensorflow:Calling model_fn.\n",
      "INFO:tensorflow:Done calling model_fn.\n",
      "INFO:tensorflow:Create CheckpointSaverHook.\n",
      "INFO:tensorflow:Graph was finalized.\n",
      "INFO:tensorflow:Restoring parameters from /tmp/tmp3tam2to2/model.ckpt-21000\n",
      "INFO:tensorflow:Running local_init_op.\n",
      "INFO:tensorflow:Done running local_init_op.\n",
      "INFO:tensorflow:Saving checkpoints for 21001 into /tmp/tmp3tam2to2/model.ckpt.\n",
      "INFO:tensorflow:loss = 106524730000.0, step = 21001\n",
      "INFO:tensorflow:global_step/sec: 324.33\n",
      "INFO:tensorflow:loss = 49839964000.0, step = 21101 (0.315 sec)\n",
      "INFO:tensorflow:global_step/sec: 367.679\n",
      "INFO:tensorflow:loss = 21781004000.0, step = 21201 (0.272 sec)\n",
      "INFO:tensorflow:global_step/sec: 357.879\n",
      "INFO:tensorflow:loss = 10582752000.0, step = 21301 (0.276 sec)\n",
      "INFO:tensorflow:global_step/sec: 370.667\n",
      "INFO:tensorflow:loss = 2109663400.0, step = 21401 (0.269 sec)\n",
      "INFO:tensorflow:global_step/sec: 366.967\n",
      "INFO:tensorflow:loss = 7361658400.0, step = 21501 (0.271 sec)\n",
      "INFO:tensorflow:global_step/sec: 363.798\n",
      "INFO:tensorflow:loss = 29156940000.0, step = 21601 (0.277 sec)\n",
      "INFO:tensorflow:global_step/sec: 374.248\n",
      "INFO:tensorflow:loss = 15057641000.0, step = 21701 (0.267 sec)\n",
      "INFO:tensorflow:global_step/sec: 377.801\n",
      "INFO:tensorflow:loss = 30445855000.0, step = 21801 (0.265 sec)\n",
      "INFO:tensorflow:global_step/sec: 384.366\n",
      "INFO:tensorflow:loss = 14323111000.0, step = 21901 (0.259 sec)\n",
      "INFO:tensorflow:global_step/sec: 369.88\n",
      "INFO:tensorflow:loss = 21841615000.0, step = 22001 (0.273 sec)\n",
      "INFO:tensorflow:global_step/sec: 372.917\n",
      "INFO:tensorflow:loss = 11459584000.0, step = 22101 (0.266 sec)\n",
      "INFO:tensorflow:global_step/sec: 366.796\n",
      "INFO:tensorflow:loss = 45608153000.0, step = 22201 (0.272 sec)\n",
      "INFO:tensorflow:global_step/sec: 361.309\n",
      "INFO:tensorflow:loss = 47596536000.0, step = 22301 (0.282 sec)\n",
      "INFO:tensorflow:global_step/sec: 373.659\n",
      "INFO:tensorflow:loss = 43356856000.0, step = 22401 (0.266 sec)\n",
      "INFO:tensorflow:global_step/sec: 371.607\n",
      "INFO:tensorflow:loss = 10929937000.0, step = 22501 (0.271 sec)\n",
      "INFO:tensorflow:global_step/sec: 358.936\n",
      "INFO:tensorflow:loss = 25106825000.0, step = 22601 (0.275 sec)\n",
      "INFO:tensorflow:global_step/sec: 378.689\n",
      "INFO:tensorflow:loss = 25884764000.0, step = 22701 (0.264 sec)\n",
      "INFO:tensorflow:global_step/sec: 375.744\n",
      "INFO:tensorflow:loss = 29692195000.0, step = 22801 (0.273 sec)\n",
      "INFO:tensorflow:global_step/sec: 391.417\n",
      "INFO:tensorflow:loss = 85980540000.0, step = 22901 (0.249 sec)\n",
      "INFO:tensorflow:global_step/sec: 371.169\n",
      "INFO:tensorflow:loss = 120085290000.0, step = 23001 (0.268 sec)\n",
      "INFO:tensorflow:global_step/sec: 367.711\n",
      "INFO:tensorflow:loss = 36723974000.0, step = 23101 (0.271 sec)\n",
      "INFO:tensorflow:global_step/sec: 375.585\n",
      "INFO:tensorflow:loss = 1465014300.0, step = 23201 (0.268 sec)\n",
      "INFO:tensorflow:global_step/sec: 374.769\n",
      "INFO:tensorflow:loss = 8360329700.0, step = 23301 (0.268 sec)\n",
      "INFO:tensorflow:global_step/sec: 371.069\n",
      "INFO:tensorflow:loss = 27479654000.0, step = 23401 (0.269 sec)\n",
      "INFO:tensorflow:global_step/sec: 371.02\n",
      "INFO:tensorflow:loss = 21480948000.0, step = 23501 (0.267 sec)\n",
      "INFO:tensorflow:global_step/sec: 347.764\n",
      "INFO:tensorflow:loss = 17553076000.0, step = 23601 (0.286 sec)\n",
      "INFO:tensorflow:global_step/sec: 382.822\n",
      "INFO:tensorflow:loss = 19698817000.0, step = 23701 (0.267 sec)\n",
      "INFO:tensorflow:global_step/sec: 388.863\n",
      "INFO:tensorflow:loss = 33583503000.0, step = 23801 (0.251 sec)\n",
      "INFO:tensorflow:global_step/sec: 375.321\n",
      "INFO:tensorflow:loss = 28264526000.0, step = 23901 (0.268 sec)\n",
      "INFO:tensorflow:global_step/sec: 374.192\n",
      "INFO:tensorflow:loss = 14318906000.0, step = 24001 (0.268 sec)\n",
      "INFO:tensorflow:global_step/sec: 360.746\n",
      "INFO:tensorflow:loss = 9444827000.0, step = 24101 (0.278 sec)\n",
      "INFO:tensorflow:global_step/sec: 366.641\n",
      "INFO:tensorflow:loss = 49978760000.0, step = 24201 (0.278 sec)\n",
      "INFO:tensorflow:global_step/sec: 364.454\n",
      "INFO:tensorflow:loss = 15497796000.0, step = 24301 (0.272 sec)\n",
      "INFO:tensorflow:global_step/sec: 381.308\n",
      "INFO:tensorflow:loss = 27760787000.0, step = 24401 (0.261 sec)\n",
      "INFO:tensorflow:global_step/sec: 349.983\n",
      "INFO:tensorflow:loss = 119296660000.0, step = 24501 (0.284 sec)\n",
      "INFO:tensorflow:global_step/sec: 346.416\n",
      "INFO:tensorflow:loss = 21042067000.0, step = 24601 (0.289 sec)\n",
      "INFO:tensorflow:global_step/sec: 370.289\n",
      "INFO:tensorflow:loss = 11775288000.0, step = 24701 (0.274 sec)\n",
      "INFO:tensorflow:global_step/sec: 368.457\n",
      "INFO:tensorflow:loss = 12595376000.0, step = 24801 (0.266 sec)\n",
      "INFO:tensorflow:global_step/sec: 371.056\n",
      "INFO:tensorflow:loss = 6252864500.0, step = 24901 (0.271 sec)\n",
      "INFO:tensorflow:global_step/sec: 364.727\n",
      "INFO:tensorflow:loss = 4204146200.0, step = 25001 (0.274 sec)\n",
      "INFO:tensorflow:global_step/sec: 354.968\n",
      "INFO:tensorflow:loss = 3466711000.0, step = 25101 (0.280 sec)\n",
      "INFO:tensorflow:global_step/sec: 370.716\n",
      "INFO:tensorflow:loss = 18135945000.0, step = 25201 (0.274 sec)\n",
      "INFO:tensorflow:global_step/sec: 390.944\n",
      "INFO:tensorflow:loss = 3257161700.0, step = 25301 (0.253 sec)\n",
      "INFO:tensorflow:global_step/sec: 374.621\n",
      "INFO:tensorflow:loss = 29273653000.0, step = 25401 (0.270 sec)\n",
      "INFO:tensorflow:global_step/sec: 392.05\n",
      "INFO:tensorflow:loss = 31527610000.0, step = 25501 (0.254 sec)\n",
      "INFO:tensorflow:global_step/sec: 352.75\n",
      "INFO:tensorflow:loss = 8351723500.0, step = 25601 (0.280 sec)\n",
      "INFO:tensorflow:global_step/sec: 373.316\n",
      "INFO:tensorflow:loss = 32645822000.0, step = 25701 (0.270 sec)\n",
      "INFO:tensorflow:global_step/sec: 362.509\n",
      "INFO:tensorflow:loss = 48437105000.0, step = 25801 (0.276 sec)\n",
      "INFO:tensorflow:global_step/sec: 368.703\n",
      "INFO:tensorflow:loss = 17766892000.0, step = 25901 (0.268 sec)\n",
      "INFO:tensorflow:global_step/sec: 390.407\n",
      "INFO:tensorflow:loss = 68563850000.0, step = 26001 (0.258 sec)\n",
      "INFO:tensorflow:global_step/sec: 375.625\n",
      "INFO:tensorflow:loss = 4170083800.0, step = 26101 (0.263 sec)\n",
      "INFO:tensorflow:global_step/sec: 378.324\n",
      "INFO:tensorflow:loss = 47167713000.0, step = 26201 (0.270 sec)\n",
      "INFO:tensorflow:global_step/sec: 381.204\n",
      "INFO:tensorflow:loss = 20818135000.0, step = 26301 (0.256 sec)\n",
      "INFO:tensorflow:global_step/sec: 376.26\n",
      "INFO:tensorflow:loss = 27625386000.0, step = 26401 (0.268 sec)\n",
      "INFO:tensorflow:global_step/sec: 364.017\n",
      "INFO:tensorflow:loss = 43570910000.0, step = 26501 (0.277 sec)\n",
      "INFO:tensorflow:global_step/sec: 305.249\n",
      "INFO:tensorflow:loss = 43897557000.0, step = 26601 (0.326 sec)\n",
      "INFO:tensorflow:global_step/sec: 283.514\n",
      "INFO:tensorflow:loss = 37392114000.0, step = 26701 (0.352 sec)\n",
      "INFO:tensorflow:global_step/sec: 373.657\n",
      "INFO:tensorflow:loss = 32097876000.0, step = 26801 (0.268 sec)\n",
      "INFO:tensorflow:global_step/sec: 356.073\n",
      "INFO:tensorflow:loss = 18941270000.0, step = 26901 (0.281 sec)\n",
      "INFO:tensorflow:global_step/sec: 365.07\n",
      "INFO:tensorflow:loss = 10818939000.0, step = 27001 (0.277 sec)\n",
      "INFO:tensorflow:global_step/sec: 369.554\n",
      "INFO:tensorflow:loss = 22971746000.0, step = 27101 (0.269 sec)\n",
      "INFO:tensorflow:global_step/sec: 379.831\n",
      "INFO:tensorflow:loss = 38414447000.0, step = 27201 (0.262 sec)\n",
      "INFO:tensorflow:global_step/sec: 363.594\n",
      "INFO:tensorflow:loss = 4000194000.0, step = 27301 (0.273 sec)\n",
      "INFO:tensorflow:global_step/sec: 368.242\n",
      "INFO:tensorflow:loss = 46170743000.0, step = 27401 (0.272 sec)\n",
      "INFO:tensorflow:global_step/sec: 356.632\n",
      "INFO:tensorflow:loss = 26722216000.0, step = 27501 (0.283 sec)\n",
      "INFO:tensorflow:global_step/sec: 357.358\n",
      "INFO:tensorflow:loss = 157028840000.0, step = 27601 (0.276 sec)\n",
      "INFO:tensorflow:global_step/sec: 359.598\n",
      "INFO:tensorflow:loss = 8328556500.0, step = 27701 (0.282 sec)\n",
      "INFO:tensorflow:global_step/sec: 356.02\n",
      "INFO:tensorflow:loss = 15578020000.0, step = 27801 (0.276 sec)\n",
      "INFO:tensorflow:global_step/sec: 364.146\n",
      "INFO:tensorflow:loss = 2732414000.0, step = 27901 (0.276 sec)\n",
      "INFO:tensorflow:global_step/sec: 384.633\n",
      "INFO:tensorflow:loss = 44026204000.0, step = 28001 (0.260 sec)\n",
      "INFO:tensorflow:global_step/sec: 354.054\n",
      "INFO:tensorflow:loss = 14121761000.0, step = 28101 (0.283 sec)\n",
      "INFO:tensorflow:global_step/sec: 362.528\n",
      "INFO:tensorflow:loss = 70575500000.0, step = 28201 (0.283 sec)\n",
      "INFO:tensorflow:global_step/sec: 372.638\n",
      "INFO:tensorflow:loss = 33135804000.0, step = 28301 (0.260 sec)\n",
      "INFO:tensorflow:global_step/sec: 379.72\n",
      "INFO:tensorflow:loss = 67287077000.0, step = 28401 (0.265 sec)\n",
      "INFO:tensorflow:global_step/sec: 370.812\n",
      "INFO:tensorflow:loss = 21131424000.0, step = 28501 (0.268 sec)\n"
     ]
    },
    {
     "name": "stdout",
     "output_type": "stream",
     "text": [
      "INFO:tensorflow:global_step/sec: 350.453\n",
      "INFO:tensorflow:loss = 64917414000.0, step = 28601 (0.290 sec)\n",
      "INFO:tensorflow:global_step/sec: 376.215\n",
      "INFO:tensorflow:loss = 4055041000.0, step = 28701 (0.263 sec)\n",
      "INFO:tensorflow:global_step/sec: 367.202\n",
      "INFO:tensorflow:loss = 14171031000.0, step = 28801 (0.274 sec)\n",
      "INFO:tensorflow:global_step/sec: 350.664\n",
      "INFO:tensorflow:loss = 37737935000.0, step = 28901 (0.280 sec)\n",
      "INFO:tensorflow:global_step/sec: 349.822\n",
      "INFO:tensorflow:loss = 89336185000.0, step = 29001 (0.290 sec)\n",
      "INFO:tensorflow:global_step/sec: 362.137\n",
      "INFO:tensorflow:loss = 33280326000.0, step = 29101 (0.277 sec)\n",
      "INFO:tensorflow:global_step/sec: 365.409\n",
      "INFO:tensorflow:loss = 5552119000.0, step = 29201 (0.270 sec)\n",
      "INFO:tensorflow:global_step/sec: 369.078\n",
      "INFO:tensorflow:loss = 13843595000.0, step = 29301 (0.276 sec)\n",
      "INFO:tensorflow:global_step/sec: 369.565\n",
      "INFO:tensorflow:loss = 42895634000.0, step = 29401 (0.268 sec)\n",
      "INFO:tensorflow:global_step/sec: 357.206\n",
      "INFO:tensorflow:loss = 17749963000.0, step = 29501 (0.278 sec)\n",
      "INFO:tensorflow:global_step/sec: 369.364\n",
      "INFO:tensorflow:loss = 51573330000.0, step = 29601 (0.270 sec)\n",
      "INFO:tensorflow:global_step/sec: 367.496\n",
      "INFO:tensorflow:loss = 52403800000.0, step = 29701 (0.272 sec)\n",
      "INFO:tensorflow:global_step/sec: 383.001\n",
      "INFO:tensorflow:loss = 7320572000.0, step = 29801 (0.266 sec)\n",
      "INFO:tensorflow:global_step/sec: 375.675\n",
      "INFO:tensorflow:loss = 18227278000.0, step = 29901 (0.263 sec)\n",
      "INFO:tensorflow:global_step/sec: 363.161\n",
      "INFO:tensorflow:loss = 32997216000.0, step = 30001 (0.275 sec)\n",
      "INFO:tensorflow:global_step/sec: 364.654\n",
      "INFO:tensorflow:loss = 13270996000.0, step = 30101 (0.275 sec)\n",
      "INFO:tensorflow:global_step/sec: 373.835\n",
      "INFO:tensorflow:loss = 20002030000.0, step = 30201 (0.268 sec)\n",
      "INFO:tensorflow:global_step/sec: 355.082\n",
      "INFO:tensorflow:loss = 64077386000.0, step = 30301 (0.279 sec)\n",
      "INFO:tensorflow:global_step/sec: 370.501\n",
      "INFO:tensorflow:loss = 71522980000.0, step = 30401 (0.271 sec)\n",
      "INFO:tensorflow:global_step/sec: 367.095\n",
      "INFO:tensorflow:loss = 27219319000.0, step = 30501 (0.274 sec)\n",
      "INFO:tensorflow:global_step/sec: 366.674\n",
      "INFO:tensorflow:loss = 3081966800.0, step = 30601 (0.274 sec)\n",
      "INFO:tensorflow:global_step/sec: 356.268\n",
      "INFO:tensorflow:loss = 8240102400.0, step = 30701 (0.279 sec)\n",
      "INFO:tensorflow:global_step/sec: 350.767\n",
      "INFO:tensorflow:loss = 35782180000.0, step = 30801 (0.283 sec)\n",
      "INFO:tensorflow:global_step/sec: 360.027\n",
      "INFO:tensorflow:loss = 34726920000.0, step = 30901 (0.281 sec)\n",
      "INFO:tensorflow:Saving checkpoints for 31000 into /tmp/tmp3tam2to2/model.ckpt.\n",
      "INFO:tensorflow:Loss for final step: 7891617000.0.\n"
     ]
    },
    {
     "data": {
      "text/plain": [
       "<tensorflow.python.estimator.canned.dnn.DNNRegressor at 0x7fa22e3c1748>"
      ]
     },
     "execution_count": 58,
     "metadata": {},
     "output_type": "execute_result"
    }
   ],
   "source": [
    "model.train(input_fn=input_func,steps=10000)"
   ]
  },
  {
   "cell_type": "code",
   "execution_count": 59,
   "metadata": {},
   "outputs": [],
   "source": [
    "eval_input_func = tf.estimator.inputs.pandas_input_fn(x=x_test,y=y_test,shuffle=False,batch_size=10)"
   ]
  },
  {
   "cell_type": "code",
   "execution_count": 60,
   "metadata": {},
   "outputs": [
    {
     "name": "stdout",
     "output_type": "stream",
     "text": [
      "INFO:tensorflow:Calling model_fn.\n",
      "INFO:tensorflow:Done calling model_fn.\n",
      "INFO:tensorflow:Starting evaluation at 2018-05-15-09:56:22\n",
      "INFO:tensorflow:Graph was finalized.\n",
      "INFO:tensorflow:Restoring parameters from /tmp/tmp3tam2to2/model.ckpt-31000\n",
      "INFO:tensorflow:Running local_init_op.\n",
      "INFO:tensorflow:Done running local_init_op.\n",
      "INFO:tensorflow:Evaluation [100/1000]\n",
      "INFO:tensorflow:Evaluation [200/1000]\n",
      "INFO:tensorflow:Evaluation [300/1000]\n",
      "INFO:tensorflow:Evaluation [400/1000]\n",
      "INFO:tensorflow:Evaluation [500/1000]\n",
      "INFO:tensorflow:Evaluation [600/1000]\n",
      "INFO:tensorflow:Finished evaluation at 2018-05-15-09:56:24\n",
      "INFO:tensorflow:Saving dict for global step 31000: average_loss = 5665890300.0, global_step = 31000, loss = 56585794000.0\n"
     ]
    }
   ],
   "source": [
    "eval = model.evaluate(input_fn=eval_input_func,steps=1000)"
   ]
  },
  {
   "cell_type": "code",
   "execution_count": 61,
   "metadata": {},
   "outputs": [
    {
     "data": {
      "text/plain": [
       "{'average_loss': 5665890300.0, 'global_step': 31000, 'loss': 56585794000.0}"
      ]
     },
     "execution_count": 61,
     "metadata": {},
     "output_type": "execute_result"
    }
   ],
   "source": [
    "eval"
   ]
  },
  {
   "cell_type": "code",
   "execution_count": 62,
   "metadata": {},
   "outputs": [],
   "source": [
    "predict_input_func = tf.estimator.inputs.pandas_input_fn(\n",
    "      x=x_test,\n",
    "      batch_size=10,\n",
    "      num_epochs=1,\n",
    "      shuffle=False)"
   ]
  },
  {
   "cell_type": "code",
   "execution_count": 63,
   "metadata": {},
   "outputs": [],
   "source": [
    "pred_gen  = model.predict(input_fn=predict_input_func)"
   ]
  },
  {
   "cell_type": "code",
   "execution_count": 64,
   "metadata": {},
   "outputs": [
    {
     "name": "stdout",
     "output_type": "stream",
     "text": [
      "INFO:tensorflow:Calling model_fn.\n",
      "INFO:tensorflow:Done calling model_fn.\n",
      "INFO:tensorflow:Graph was finalized.\n",
      "INFO:tensorflow:Restoring parameters from /tmp/tmp3tam2to2/model.ckpt-31000\n",
      "INFO:tensorflow:Running local_init_op.\n",
      "INFO:tensorflow:Done running local_init_op.\n"
     ]
    }
   ],
   "source": [
    "predictions=list(pred_gen)"
   ]
  },
  {
   "cell_type": "code",
   "execution_count": 65,
   "metadata": {},
   "outputs": [],
   "source": [
    "pred_values = []\n",
    "for x in predictions:\n",
    "    pred_values.append(x['predictions'])"
   ]
  },
  {
   "cell_type": "code",
   "execution_count": 66,
   "metadata": {},
   "outputs": [],
   "source": [
    "from sklearn.metrics import mean_squared_error"
   ]
  },
  {
   "cell_type": "code",
   "execution_count": 67,
   "metadata": {},
   "outputs": [
    {
     "data": {
      "text/plain": [
       "75272.08906160163"
      ]
     },
     "execution_count": 67,
     "metadata": {},
     "output_type": "execute_result"
    }
   ],
   "source": [
    "mean_squared_error(y_test,pred_values)**0.5"
   ]
  },
  {
   "cell_type": "code",
   "execution_count": null,
   "metadata": {},
   "outputs": [],
   "source": []
  }
 ],
 "metadata": {
  "kernelspec": {
   "display_name": "Python 3",
   "language": "python",
   "name": "python3"
  },
  "language_info": {
   "codemirror_mode": {
    "name": "ipython",
    "version": 3
   },
   "file_extension": ".py",
   "mimetype": "text/x-python",
   "name": "python",
   "nbconvert_exporter": "python",
   "pygments_lexer": "ipython3",
   "version": "3.5.5"
  }
 },
 "nbformat": 4,
 "nbformat_minor": 2
}
